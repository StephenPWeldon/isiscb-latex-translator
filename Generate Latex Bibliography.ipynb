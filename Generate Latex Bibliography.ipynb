{
 "cells": [
  {
   "cell_type": "code",
   "execution_count": 1,
   "metadata": {},
   "outputs": [],
   "source": [
    "import csv"
   ]
  },
  {
   "cell_type": "code",
   "execution_count": 67,
   "metadata": {},
   "outputs": [],
   "source": [
    "export_file = '/Users/jdamerow/UpConsulting/files/latex/2019-10-08 23_43_48--export-for-latex-2.csv'\n",
    "result_file_path = '/Users/jdamerow/UpConsulting/files/latex/result.txt'"
   ]
  },
  {
   "cell_type": "code",
   "execution_count": 91,
   "metadata": {},
   "outputs": [],
   "source": [
    "class Author:\n",
    "    def __init__(self):\n",
    "        self.name = ''\n",
    "        self.order = 0"
   ]
  },
  {
   "cell_type": "code",
   "execution_count": 92,
   "metadata": {},
   "outputs": [],
   "source": [
    "class Book:\n",
    "    def __init__(self):\n",
    "        self.authors = []\n",
    "        self.title = ''\n",
    "        self.year = 0\n",
    "        self.publisher = ''\n",
    "        self.isbn = ''\n",
    "        self.isiscb_id = ''"
   ]
  },
  {
   "cell_type": "code",
   "execution_count": 93,
   "metadata": {},
   "outputs": [],
   "source": [
    "def create_author(author_string):\n",
    "    author = Author()\n",
    "    parts = author_string.split('||')\n",
    "    for part in parts:\n",
    "        part = part.strip()\n",
    "        if part.startswith('AuthorityName '):\n",
    "            author.name = part[len('AuthorityName '):]\n",
    "            continue\n",
    "        if part.startswith('ACRDisplayOrder '):\n",
    "            author.order = part[len('ACRDisplayOrder '):]\n",
    "    return author"
   ]
  },
  {
   "cell_type": "code",
   "execution_count": 94,
   "metadata": {},
   "outputs": [],
   "source": [
    "def get_publisher(publisher_string):\n",
    "    parts = publisher_string.split('||')\n",
    "    for part in parts:\n",
    "        part = part.strip()\n",
    "        if part.startswith('AuthorityName '):\n",
    "            return part[len('AuthorityName '):]"
   ]
  },
  {
   "cell_type": "code",
   "execution_count": 95,
   "metadata": {},
   "outputs": [],
   "source": [
    "def build_book(row):\n",
    "    book = Book()\n",
    "    book.isiscb_id = row['Record ID']\n",
    "    \n",
    "    author_strings = row['Author'].split('//')\n",
    "    for a in author_strings:\n",
    "        book.authors.append(create_author(a))\n",
    "    \n",
    "    \n",
    "    book.title = row['Title']\n",
    "    book.year = row['Year of publication']\n",
    "    book.publisher = get_publisher(row['Place Publisher'])\n",
    "    book.isbn = row['ISBN']\n",
    "    return book"
   ]
  },
  {
   "cell_type": "code",
   "execution_count": 96,
   "metadata": {},
   "outputs": [],
   "source": [
    "latex_template = \"\"\"\n",
    "\\\\noindent\\\\begin{footnotesize}\\\\textbf{%s}\\\\hspace{0.5em} %s. \\\\textit{%s}. %s, %s. %s \\\\textsc{\\\\href{https://data.isiscb.org/isis/citation/%s}{%s}}.\n",
    "\\\\vspace{2ex} \\\\end{footnotesize}\n",
    "\\\\paragraph{}\n",
    "\\n\n",
    "\"\"\"\n",
    "author_template = \"\\\\textsc{%s}, %s\"\n",
    "isbn_template = \"\\\\textsc{isbn}: %s.\"\n",
    "with open(export_file) as csvfile:\n",
    "    with open(result_file_path, 'w') as result_file:\n",
    "        reader = csv.DictReader(csvfile)\n",
    "        counter = 1\n",
    "        for row in reader:\n",
    "            if row['Record Type'] != \"Book\":\n",
    "                continue\n",
    "            book = build_book(row)\n",
    "            authors_latex = []\n",
    "            for a in book.authors:\n",
    "                name = a.name\n",
    "                if ',' in name:\n",
    "                    last = name[:name.index(',')]\n",
    "                    first = name[name.index(',')+1:]\n",
    "                else:\n",
    "                    last = name[name.rfind(\" \"):].strip()\n",
    "                    first = name[:name.rfind(\" \")].strip()\n",
    "                authors_latex.append(author_template%(last, first))\n",
    "            \n",
    "            isbn = ''\n",
    "            if book.isbn:\n",
    "                isbn = isbn_template%(book.isbn)\n",
    "            latex_entry = latex_template%(counter, \", \".join(authors_latex), book.title, book.publisher, book.year, isbn, book.isiscb_id, book.isiscb_id)\n",
    "\n",
    "            result_file.write(latex_entry.strip())\n",
    "            counter += 1\n"
   ]
  },
  {
   "cell_type": "code",
   "execution_count": null,
   "metadata": {},
   "outputs": [],
   "source": []
  }
 ],
 "metadata": {
  "kernelspec": {
   "display_name": "Python 3",
   "language": "python",
   "name": "python3"
  },
  "language_info": {
   "codemirror_mode": {
    "name": "ipython",
    "version": 3
   },
   "file_extension": ".py",
   "mimetype": "text/x-python",
   "name": "python",
   "nbconvert_exporter": "python",
   "pygments_lexer": "ipython3",
   "version": "3.7.4"
  }
 },
 "nbformat": 4,
 "nbformat_minor": 2
}
